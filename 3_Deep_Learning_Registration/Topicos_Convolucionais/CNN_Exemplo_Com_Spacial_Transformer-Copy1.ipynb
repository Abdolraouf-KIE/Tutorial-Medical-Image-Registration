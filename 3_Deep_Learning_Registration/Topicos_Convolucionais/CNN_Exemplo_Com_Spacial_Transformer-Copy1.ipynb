{
 "cells": [
  {
   "cell_type": "code",
   "execution_count": null,
   "metadata": {
    "scrolled": true
   },
   "outputs": [],
   "source": [
    "'''Trains a simple convnet on the MNIST dataset.\n",
    "\n",
    "Gets to 99.25% test accuracy after 12 epochs\n",
    "(there is still a lot of margin for parameter tuning).\n",
    "16 seconds per epoch on a GRID K520 GPU.\n",
    "'''\n",
    "from __future__ import print_function\n",
    "\n",
    "import keras\n",
    "from keras import backend as K\n",
    "\n",
    "from keras.models import Sequential\n",
    "from keras.models import Model\n",
    "\n",
    "from keras.layers import Dense, Dropout, Flatten\n",
    "from keras.layers import Conv2D, MaxPooling2D\n",
    "from keras.layers import Input\n",
    "from keras.layers import Activation\n",
    "from keras.layers import MaxPool2D\n",
    "from keras.layers import Flatten\n",
    "from keras.layers import Conv2D\n",
    "from keras.layers import Dense\n",
    "\n",
    "from keras.engine.topology import Layer\n",
    "\n",
    "from data_manager import ClutteredMNIST\n",
    "from visualizer import plot_mnist_sample\n",
    "from visualizer import print_evaluation\n",
    "from visualizer import plot_mnist_grid\n",
    "from models import STN\n",
    "\n",
    "import matplotlib.pyplot as plt\n",
    "import matplotlib\n",
    "matplotlib.interactive(True)\n",
    "\n",
    "from utils import get_initial_weights\n",
    "from layers import BilinearInterpolation\n",
    "from data_manager import ClutteredMNIST\n",
    "from visualizer import plot_mnist_sample\n",
    "from visualizer import print_evaluation\n",
    "from visualizer import plot_mnist_grid\n",
    "from models import STN\n",
    "\n",
    "from IPython.core.interactiveshell import InteractiveShell\n",
    "InteractiveShell.ast_node_interactivity = \"all\"\n",
    "\n"
   ]
  },
  {
   "cell_type": "code",
   "execution_count": null,
   "metadata": {
    "scrolled": true
   },
   "outputs": [],
   "source": [
    "dataset_path = \"../datasets/mnist_cluttered_60x60_6distortions.npz\"\n",
    "batch_size = 128\n",
    "epochs = 12\n",
    "num_classes = 10\n",
    "\n",
    "#batch_size = 128\n",
    "#num_classes = 10\n",
    "#epochs = 12\n",
    "\n",
    "# input image dimensions\n",
    "img_rows, img_cols = 60, 60\n",
    "input_shape = (img_rows, img_cols, 1)\n",
    "\n",
    "data_manager = ClutteredMNIST(dataset_path)\n",
    "train_data, val_data, test_data = data_manager.load()\n",
    "x_train, y_train = train_data\n",
    "x_test, y_test = val_data\n",
    "\n",
    "\n",
    "np.shape(x_train)\n",
    "np.shape(y_train)\n",
    "np.shape(y_train)  \n",
    "np.shape(y_train)  \n",
    "\n",
    "#y_train = keras.utils.to_categorical(y_train, 10)\n",
    "np.shape(y_train)\n",
    "y_train[1,:]"
   ]
  },
  {
   "cell_type": "code",
   "execution_count": null,
   "metadata": {},
   "outputs": [],
   "source": [
    "#Mexer nessa Estrutura\n",
    "sampling_size=(60,60)\n",
    "\n",
    "image = Input(shape=input_shape)\n",
    "locnet = MaxPool2D(pool_size=(2, 2))(image)\n",
    "locnet = Conv2D(20, (5, 5))(locnet)\n",
    "locnet = MaxPool2D(pool_size=(2, 2))(locnet)\n",
    "locnet = Conv2D(20, (5, 5))(locnet)\n",
    "locnet = Flatten()(locnet)\n",
    "locnet = Dense(50)(locnet)\n",
    "locnet = Activation('relu')(locnet)\n",
    "weights = get_initial_weights(50)\n",
    "locnet = Dense(6, weights=weights)(locnet)\n",
    "    \n",
    "x = BilinearInterpolation(sampling_size)([image, locnet])\n",
    "\n",
    "x = Conv2D(32, kernel_size=(3, 3), activation='relu')(x)\n",
    "x = Conv2D(64, (3, 3), activation='relu')(x)\n",
    "x = MaxPooling2D(pool_size=(2, 2))(x)\n",
    "x = Dropout(0.25)(x)\n",
    "x = Flatten()(x)\n",
    "x = Dense(128, activation='relu')(x)\n",
    "x = Dropout(0.5)(x)\n",
    "x = Dense(num_classes, activation='softmax')(x)\n",
    "\n",
    "model = Model(inputs = image, outputs = x)"
   ]
  },
  {
   "cell_type": "code",
   "execution_count": null,
   "metadata": {},
   "outputs": [],
   "source": [
    "model.summary()"
   ]
  },
  {
   "cell_type": "code",
   "execution_count": null,
   "metadata": {},
   "outputs": [],
   "source": [
    "from keras.utils import plot_model\n",
    "plot_model(model,to_file='CNN_com_STN.png',show_shapes=True)"
   ]
  },
  {
   "cell_type": "code",
   "execution_count": null,
   "metadata": {
    "scrolled": true
   },
   "outputs": [],
   "source": [
    "model.compile(loss=keras.losses.categorical_crossentropy,\n",
    "              optimizer=keras.optimizers.Adadelta(),\n",
    "              metrics=['accuracy'])\n",
    "\n",
    "history = model.fit(x_train, y_train,\n",
    "              batch_size=batch_size,\n",
    "              epochs=epochs,\n",
    "              verbose=1,\n",
    "              validation_data=(x_test, y_test))\n",
    "\n",
    "score = model.evaluate(x_test, y_test, verbose=1)\n",
    "print('Test loss:', score[0])\n",
    "print('Test accuracy:', score[1])\n"
   ]
  },
  {
   "cell_type": "code",
   "execution_count": null,
   "metadata": {},
   "outputs": [],
   "source": [
    "output_STN = model.get_layer('bilinear_interpolation_1').output\n",
    "STN_function = K.function([image], [output_STN])\n",
    "\n",
    "x_test = np.reshape(x_test, (len(x_test), 60, 60, 1))  \n",
    "np.shape(x_test)\n",
    "\n",
    "x_test_sample = np.copy(x_test[0:9,:,:,:])\n",
    "np.shape(x_test_sample)\n",
    "\n",
    "image_result = STN_function([x_test_sample])\n",
    "np.shape(image_result)"
   ]
  },
  {
   "cell_type": "code",
   "execution_count": null,
   "metadata": {},
   "outputs": [],
   "source": [
    "a = image_result[0]\n",
    "np.shape(a)\n",
    "b = a[0]\n",
    "np.shape(b)"
   ]
  },
  {
   "cell_type": "code",
   "execution_count": null,
   "metadata": {},
   "outputs": [],
   "source": [
    "#Imagem Teste\n",
    "plt.figure()\n",
    "plt.imshow(x_test[2].reshape(60,60))\n",
    "plt.gray()\n",
    "\n",
    "#Imagem Transformada\n",
    "a = image_result[0]\n",
    "np.shape(a)\n",
    "b = a[2]\n",
    "np.shape(b)\n",
    "plt.figure()\n",
    "plt.imshow(b.reshape(60,60))\n",
    "plt.gray()\n",
    "\n"
   ]
  },
  {
   "cell_type": "code",
   "execution_count": null,
   "metadata": {},
   "outputs": [],
   "source": [
    "plot_mnist_grid(x_test_sample)\n",
    "plot_mnist_grid(x_test_sample, STN_function)"
   ]
  },
  {
   "cell_type": "code",
   "execution_count": null,
   "metadata": {},
   "outputs": [],
   "source": []
  }
 ],
 "metadata": {
  "kernelspec": {
   "display_name": "TensorFlow-GPU",
   "language": "python",
   "name": "tensorflow_teste"
  },
  "language_info": {
   "codemirror_mode": {
    "name": "ipython",
    "version": 3
   },
   "file_extension": ".py",
   "mimetype": "text/x-python",
   "name": "python",
   "nbconvert_exporter": "python",
   "pygments_lexer": "ipython3",
   "version": "3.6.8"
  },
  "varInspector": {
   "cols": {
    "lenName": 16,
    "lenType": 16,
    "lenVar": 40
   },
   "kernels_config": {
    "python": {
     "delete_cmd_postfix": "",
     "delete_cmd_prefix": "del ",
     "library": "var_list.py",
     "varRefreshCmd": "print(var_dic_list())"
    },
    "r": {
     "delete_cmd_postfix": ") ",
     "delete_cmd_prefix": "rm(",
     "library": "var_list.r",
     "varRefreshCmd": "cat(var_dic_list()) "
    }
   },
   "types_to_exclude": [
    "module",
    "function",
    "builtin_function_or_method",
    "instance",
    "_Feature"
   ],
   "window_display": false
  }
 },
 "nbformat": 4,
 "nbformat_minor": 2
}
