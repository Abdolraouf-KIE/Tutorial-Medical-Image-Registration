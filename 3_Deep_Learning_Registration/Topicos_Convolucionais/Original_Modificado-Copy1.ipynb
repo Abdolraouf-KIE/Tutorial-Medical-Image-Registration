{
 "cells": [
  {
   "cell_type": "markdown",
   "metadata": {},
   "source": [
    "## *Para funcionar basta colocar no compilador TensorFlow-GPU!*\n"
   ]
  },
  {
   "cell_type": "code",
   "execution_count": null,
   "metadata": {},
   "outputs": [],
   "source": [
    "import keras.backend as K\n",
    "from data_manager import ClutteredMNIST\n",
    "from visualizer import plot_mnist_sample\n",
    "from visualizer import print_evaluation\n",
    "from visualizer import plot_mnist_grid\n",
    "from models import STN\n",
    "\n",
    "from IPython.core.interactiveshell import InteractiveShell\n",
    "InteractiveShell.ast_node_interactivity = \"all\""
   ]
  },
  {
   "cell_type": "code",
   "execution_count": null,
   "metadata": {},
   "outputs": [],
   "source": [
    "dataset_path = \"../datasets/mnist_cluttered_60x60_6distortions.npz\"\n",
    "batch_size = 256\n",
    "num_epochs = 30\n",
    "\n",
    "data_manager = ClutteredMNIST(dataset_path)\n",
    "train_data, val_data, test_data = data_manager.load()\n",
    "x_train, y_train = train_data\n",
    "plot_mnist_sample(x_train[7])"
   ]
  },
  {
   "cell_type": "code",
   "execution_count": null,
   "metadata": {
    "scrolled": false
   },
   "outputs": [],
   "source": [
    "model = STN()\n",
    "model.compile(loss='categorical_crossentropy', optimizer='adam')\n",
    "model.summary()"
   ]
  },
  {
   "cell_type": "code",
   "execution_count": null,
   "metadata": {
    "scrolled": true
   },
   "outputs": [],
   "source": [
    "input_image = model.input\n",
    "output_STN = model.get_layer('bilinear_interpolation_1').output\n",
    "STN_function = K.function([input_image], [output_STN])\n",
    "\n",
    "for epoch_arg in range(num_epochs):\n",
    "    for batch_arg in range(150):\n",
    "        arg_0 = batch_arg * batch_size\n",
    "        arg_1 = (batch_arg + 1) * batch_size\n",
    "        x_batch, y_batch = x_train[arg_0:arg_1], y_train[arg_0:arg_1]\n",
    "        loss = model.train_on_batch(x_batch, y_batch)\n",
    "    if epoch_arg % 10 == 0:\n",
    "        val_score = model.evaluate(*val_data, verbose=1)\n",
    "        test_score = model.evaluate(*test_data, verbose=1)\n",
    "        print_evaluation(epoch_arg, val_score, test_score)\n",
    "        plot_mnist_grid(x_batch, STN_function)\n",
    "        print('-' * 40)"
   ]
  },
  {
   "cell_type": "code",
   "execution_count": null,
   "metadata": {},
   "outputs": [],
   "source": [
    "plot_mnist_grid(x_train)\n",
    "\n",
    "\n",
    "plot_mnist_grid(x_train, STN_function)"
   ]
  }
 ],
 "metadata": {
  "kernelspec": {
   "display_name": "TensorFlow-GPU",
   "language": "python",
   "name": "tensorflow_teste"
  },
  "language_info": {
   "codemirror_mode": {
    "name": "ipython",
    "version": 3
   },
   "file_extension": ".py",
   "mimetype": "text/x-python",
   "name": "python",
   "nbconvert_exporter": "python",
   "pygments_lexer": "ipython3",
   "version": "3.6.8"
  },
  "varInspector": {
   "cols": {
    "lenName": 16,
    "lenType": 16,
    "lenVar": 40
   },
   "kernels_config": {
    "python": {
     "delete_cmd_postfix": "",
     "delete_cmd_prefix": "del ",
     "library": "var_list.py",
     "varRefreshCmd": "print(var_dic_list())"
    },
    "r": {
     "delete_cmd_postfix": ") ",
     "delete_cmd_prefix": "rm(",
     "library": "var_list.r",
     "varRefreshCmd": "cat(var_dic_list()) "
    }
   },
   "types_to_exclude": [
    "module",
    "function",
    "builtin_function_or_method",
    "instance",
    "_Feature"
   ],
   "window_display": false
  }
 },
 "nbformat": 4,
 "nbformat_minor": 2
}
